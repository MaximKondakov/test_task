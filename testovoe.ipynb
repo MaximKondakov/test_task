{
  "nbformat": 4,
  "nbformat_minor": 0,
  "metadata": {
    "colab": {
      "provenance": []
    },
    "kernelspec": {
      "name": "python3",
      "display_name": "Python 3"
    },
    "language_info": {
      "name": "python"
    }
  },
  "cells": [
    {
      "cell_type": "code",
      "source": [
        "!pip install dateparser"
      ],
      "metadata": {
        "colab": {
          "base_uri": "https://localhost:8080/"
        },
        "id": "56ub_RNJICsS",
        "outputId": "5dddee8e-58b6-48b6-f6d6-7cc41ad68e34"
      },
      "execution_count": 16,
      "outputs": [
        {
          "output_type": "stream",
          "name": "stdout",
          "text": [
            "Collecting dateparser\n",
            "  Downloading dateparser-1.1.8-py2.py3-none-any.whl (293 kB)\n",
            "\u001b[?25l     \u001b[90m━━━━━━━━━━━━━━━━━━━━━━━━━━━━━━━━━━━━━━━━\u001b[0m \u001b[32m0.0/293.8 kB\u001b[0m \u001b[31m?\u001b[0m eta \u001b[36m-:--:--\u001b[0m\r\u001b[2K     \u001b[91m━━━━━━━━━━━━━━\u001b[0m\u001b[91m╸\u001b[0m\u001b[90m━━━━━━━━━━━━━━━━━━━━━━━━\u001b[0m \u001b[32m112.6/293.8 kB\u001b[0m \u001b[31m3.3 MB/s\u001b[0m eta \u001b[36m0:00:01\u001b[0m\r\u001b[2K     \u001b[90m━━━━━━━━━━━━━━━━━━━━━━━━━━━━━━━━━━━━━━━\u001b[0m \u001b[32m293.8/293.8 kB\u001b[0m \u001b[31m5.3 MB/s\u001b[0m eta \u001b[36m0:00:00\u001b[0m\n",
            "\u001b[?25hRequirement already satisfied: python-dateutil in /usr/local/lib/python3.10/dist-packages (from dateparser) (2.8.2)\n",
            "Requirement already satisfied: pytz in /usr/local/lib/python3.10/dist-packages (from dateparser) (2023.3.post1)\n",
            "Requirement already satisfied: regex!=2019.02.19,!=2021.8.27 in /usr/local/lib/python3.10/dist-packages (from dateparser) (2023.6.3)\n",
            "Requirement already satisfied: tzlocal in /usr/local/lib/python3.10/dist-packages (from dateparser) (5.0.1)\n",
            "Requirement already satisfied: six>=1.5 in /usr/local/lib/python3.10/dist-packages (from python-dateutil->dateparser) (1.16.0)\n",
            "Installing collected packages: dateparser\n",
            "Successfully installed dateparser-1.1.8\n"
          ]
        }
      ]
    },
    {
      "cell_type": "code",
      "execution_count": 1,
      "metadata": {
        "id": "9T15YFmLhMpM"
      },
      "outputs": [],
      "source": [
        "import pandas as pd\n",
        "import numpy as np\n",
        "import matplotlib.pyplot as plt\n",
        "import seaborn as sns\n",
        "import dateparser"
      ]
    },
    {
      "cell_type": "code",
      "source": [
        "PATH = '/content/data.xlsx'\n",
        "df = pd.read_excel(PATH)"
      ],
      "metadata": {
        "id": "5Oy1MO9WhUL6"
      },
      "execution_count": 127,
      "outputs": []
    },
    {
      "cell_type": "code",
      "source": [
        "# remove duplicated rows\n",
        "df = df.drop_duplicates()\n",
        "len(df[df.duplicated()])\n",
        "# drop ВНУТРЕННИЙ\n",
        "df = df.drop(1)\n",
        "# fill nan in document -> НЕТ\n",
        "df.document = df.document.fillna('НЕТ')"
      ],
      "metadata": {
        "id": "u4DQG3iYGXt4"
      },
      "execution_count": 128,
      "outputs": []
    },
    {
      "cell_type": "code",
      "source": [
        "# remove nan rows and make date column\n",
        "df_nan = df[~df['status'].isin(['ВНУТРЕННИЙ', 'ОПЛАЧЕНО', 'ПРОСРОЧЕНО', 'В РАБОТЕ', 'НА ПОДПИСАНИИ'])]\n",
        "\n",
        "df['date'] = np.NaN\n",
        "list_index = df_nan.index.to_list()\n",
        "list_index.append(max(df.index))\n",
        "\n",
        "for i in range(1, len(list_index)):\n",
        "    first = list_index[i-1]\n",
        "    second = list_index[i]\n",
        "    df.loc[first:second, 'date'] = df.loc[first, 'status']\n",
        "\n",
        "df = df.drop(df_nan.index.to_list())\n",
        "df.dropna(how='all', axis=1, inplace=True)"
      ],
      "metadata": {
        "id": "6yyPyADJr_pr"
      },
      "execution_count": 129,
      "outputs": []
    },
    {
      "cell_type": "markdown",
      "source": [
        "* 1) Вычислите общую выручку за июль 2021 по тем сделкам, приход денежных\n",
        "средств которых не просрочен."
      ],
      "metadata": {
        "id": "DsVhcqPZ0dRO"
      }
    },
    {
      "cell_type": "code",
      "source": [
        "res1 = df['sum'][(~df['document'].isin(['ПРОСРОЧЕНО'])) & (df['date'] == 'Июль 2021')].sum()\n",
        "print(f'выручка за июль 2021 = {np.round(res1,2)}')"
      ],
      "metadata": {
        "colab": {
          "base_uri": "https://localhost:8080/"
        },
        "id": "7GlC2SlfzTGg",
        "outputId": "24088206-f0b1-4e62-d0e7-75db90071b05"
      },
      "execution_count": 130,
      "outputs": [
        {
          "output_type": "stream",
          "name": "stdout",
          "text": [
            "выручка за июль 2021 = 828600.37\n"
          ]
        }
      ]
    },
    {
      "cell_type": "markdown",
      "source": [
        "\n",
        "* 2) Как изменялась выручка компании за рассматриваемый период?\n",
        "Проиллюстрируйте графиком."
      ],
      "metadata": {
        "id": "ZMYq-roXiih8"
      }
    },
    {
      "cell_type": "code",
      "source": [
        "df['month_date'] = df['date'].apply(lambda x: dateparser.parse(x)).dt.month\n",
        "df_sum_month = df.groupby(['month_date'])[\"sum\"].sum().reset_index().sort_values(by='month_date', ascending=True)\n",
        "df_sum_month['month'] = df_sum_month['month_date'].replace({5: 'May',\n",
        "                                                            6: 'June',\n",
        "                                                            7:'July',\n",
        "                                                            8: 'August',\n",
        "                                                            9: 'September',\n",
        "                                                            10: 'November'})"
      ],
      "metadata": {
        "id": "L1_jIcuVbNS3"
      },
      "execution_count": 136,
      "outputs": []
    },
    {
      "cell_type": "code",
      "source": [
        "ax = sns.barplot(data=df_sum_month, x=\"month\", y=\"sum\")\n",
        "ax.set(xlabel='месяц', ylabel='выручка в млн.')\n",
        "plt.show()"
      ],
      "metadata": {
        "colab": {
          "base_uri": "https://localhost:8080/",
          "height": 465
        },
        "id": "65BBP0vOaCw5",
        "outputId": "cd76340d-fd7f-4953-f367-beb6dc2bfecb"
      },
      "execution_count": 137,
      "outputs": [
        {
          "output_type": "display_data",
          "data": {
            "text/plain": [
              "<Figure size 640x480 with 1 Axes>"
            ],
            "image/png": "[encoded data removed]"
          },
          "metadata": {}
        }
      ]
    },
    {
      "cell_type": "markdown",
      "source": [
        "* 3) Кто из менеджеров привлек для компании больше всего денежных средств в\n",
        "сентябре 2021?"
      ],
      "metadata": {
        "id": "MXcf1MeiENCs"
      }
    },
    {
      "cell_type": "code",
      "source": [
        "df.query(\"date == 'Сентябрь 2021'\").groupby(['sale'])[\"sum\"].sum().reset_index().sort_values(by=['sum'], ascending=False)"
      ],
      "metadata": {
        "colab": {
          "base_uri": "https://localhost:8080/",
          "height": 331
        },
        "id": "gxH4OspuEeX9",
        "outputId": "e78e7ed4-55f9-46a5-95dc-6e5897dca868"
      },
      "execution_count": 138,
      "outputs": [
        {
          "output_type": "execute_result",
          "data": {
            "text/plain": [
              "         sale        sum\n",
              "6     Смирнов  212084.60\n",
              "5     Петрова  145890.76\n",
              "0     Андреев  132646.30\n",
              "2      Иванов   94770.60\n",
              "3   Кузнецова   72228.40\n",
              "8  Филимонова   59514.47\n",
              "1    Васильев   49895.45\n",
              "7     Соколов   35183.50\n",
              "4    Михайлов    4268.70"
            ],
            "text/html": [
              "\n",
              "  <div id=\"df-557001a8-e3ef-46fa-a6ed-cb130972a17e\" class=\"colab-df-container\">\n",
              "    <div>\n",
              "<style scoped>\n",
              "    .dataframe tbody tr th:only-of-type {\n",
              "        vertical-align: middle;\n",
              "    }\n",
              "\n",
              "    .dataframe tbody tr th {\n",
              "        vertical-align: top;\n",
              "    }\n",
              "\n",
              "    .dataframe thead th {\n",
              "        text-align: right;\n",
              "    }\n",
              "</style>\n",
              "<table border=\"1\" class=\"dataframe\">\n",
              "  <thead>\n",
              "    <tr style=\"text-align: right;\">\n",
              "      <th></th>\n",
              "      <th>sale</th>\n",
              "      <th>sum</th>\n",
              "    </tr>\n",
              "  </thead>\n",
              "  <tbody>\n",
              "    <tr>\n",
              "      <th>6</th>\n",
              "      <td>Смирнов</td>\n",
              "      <td>212084.60</td>\n",
              "    </tr>\n",
              "    <tr>\n",
              "      <th>5</th>\n",
              "      <td>Петрова</td>\n",
              "      <td>145890.76</td>\n",
              "    </tr>\n",
              "    <tr>\n",
              "      <th>0</th>\n",
              "      <td>Андреев</td>\n",
              "      <td>132646.30</td>\n",
              "    </tr>\n",
              "    <tr>\n",
              "      <th>2</th>\n",
              "      <td>Иванов</td>\n",
              "      <td>94770.60</td>\n",
              "    </tr>\n",
              "    <tr>\n",
              "      <th>3</th>\n",
              "      <td>Кузнецова</td>\n",
              "      <td>72228.40</td>\n",
              "    </tr>\n",
              "    <tr>\n",
              "      <th>8</th>\n",
              "      <td>Филимонова</td>\n",
              "      <td>59514.47</td>\n",
              "    </tr>\n",
              "    <tr>\n",
              "      <th>1</th>\n",
              "      <td>Васильев</td>\n",
              "      <td>49895.45</td>\n",
              "    </tr>\n",
              "    <tr>\n",
              "      <th>7</th>\n",
              "      <td>Соколов</td>\n",
              "      <td>35183.50</td>\n",
              "    </tr>\n",
              "    <tr>\n",
              "      <th>4</th>\n",
              "      <td>Михайлов</td>\n",
              "      <td>4268.70</td>\n",
              "    </tr>\n",
              "  </tbody>\n",
              "</table>\n",
              "</div>\n",
              "    <div class=\"colab-df-buttons\">\n",
              "\n",
              "  <div class=\"colab-df-container\">\n",
              "    <button class=\"colab-df-convert\" onclick=\"convertToInteractive('df-557001a8-e3ef-46fa-a6ed-cb130972a17e')\"\n",
              "            title=\"Convert this dataframe to an interactive table.\"\n",
              "            style=\"display:none;\">\n",
              "\n",
              "  <svg xmlns=\"http://www.w3.org/2000/svg\" height=\"24px\" viewBox=\"0 -960 960 960\">\n",
              "    <path d=\"M120-120v-720h720v720H120Zm60-500h600v-160H180v160Zm220 220h160v-160H400v160Zm0 220h160v-160H400v160ZM180-400h160v-160H180v160Zm440 0h160v-160H620v160ZM180-180h160v-160H180v160Zm440 0h160v-160H620v160Z\"/>\n",
              "  </svg>\n",
              "    </button>\n",
              "\n",
              "  <style>\n",
              "    .colab-df-container {\n",
              "      display:flex;\n",
              "      gap: 12px;\n",
              "    }\n",
              "\n",
              "    .colab-df-convert {\n",
              "      background-color: #E8F0FE;\n",
              "      border: none;\n",
              "      border-radius: 50%;\n",
              "      cursor: pointer;\n",
              "      display: none;\n",
              "      fill: #1967D2;\n",
              "      height: 32px;\n",
              "      padding: 0 0 0 0;\n",
              "      width: 32px;\n",
              "    }\n",
              "\n",
              "    .colab-df-convert:hover {\n",
              "      background-color: #E2EBFA;\n",
              "      box-shadow: 0px 1px 2px rgba(60, 64, 67, 0.3), 0px 1px 3px 1px rgba(60, 64, 67, 0.15);\n",
              "      fill: #174EA6;\n",
              "    }\n",
              "\n",
              "    .colab-df-buttons div {\n",
              "      margin-bottom: 4px;\n",
              "    }\n",
              "\n",
              "    [theme=dark] .colab-df-convert {\n",
              "      background-color: #3B4455;\n",
              "      fill: #D2E3FC;\n",
              "    }\n",
              "\n",
              "    [theme=dark] .colab-df-convert:hover {\n",
              "      background-color: #434B5C;\n",
              "      box-shadow: 0px 1px 3px 1px rgba(0, 0, 0, 0.15);\n",
              "      filter: drop-shadow(0px 1px 2px rgba(0, 0, 0, 0.3));\n",
              "      fill: #FFFFFF;\n",
              "    }\n",
              "  </style>\n",
              "\n",
              "    <script>\n",
              "      const buttonEl =\n",
              "        document.querySelector('#df-557001a8-e3ef-46fa-a6ed-cb130972a17e button.colab-df-convert');\n",
              "      buttonEl.style.display =\n",
              "        google.colab.kernel.accessAllowed ? 'block' : 'none';\n",
              "\n",
              "      async function convertToInteractive(key) {\n",
              "        const element = document.querySelector('#df-557001a8-e3ef-46fa-a6ed-cb130972a17e');\n",
              "        const dataTable =\n",
              "          await google.colab.kernel.invokeFunction('convertToInteractive',\n",
              "                                                    [key], {});\n",
              "        if (!dataTable) return;\n",
              "\n",
              "        const docLinkHtml = 'Like what you see? Visit the ' +\n",
              "          '<a target=\"_blank\" href=https://colab.research.google.com/notebooks/data_table.ipynb>data table notebook</a>'\n",
              "          + ' to learn more about interactive tables.';\n",
              "        element.innerHTML = '';\n",
              "        dataTable['output_type'] = 'display_data';\n",
              "        await google.colab.output.renderOutput(dataTable, element);\n",
              "        const docLink = document.createElement('div');\n",
              "        docLink.innerHTML = docLinkHtml;\n",
              "        element.appendChild(docLink);\n",
              "      }\n",
              "    </script>\n",
              "  </div>\n",
              "\n",
              "\n",
              "<div id=\"df-b1de905a-9f6a-487d-8057-d2667789f087\">\n",
              "  <button class=\"colab-df-quickchart\" onclick=\"quickchart('df-b1de905a-9f6a-487d-8057-d2667789f087')\"\n",
              "            title=\"Suggest charts.\"\n",
              "            style=\"display:none;\">\n",
              "\n",
              "<svg xmlns=\"http://www.w3.org/2000/svg\" height=\"24px\"viewBox=\"0 0 24 24\"\n",
              "     width=\"24px\">\n",
              "    <g>\n",
              "        <path d=\"M19 3H5c-1.1 0-2 .9-2 2v14c0 1.1.9 2 2 2h14c1.1 0 2-.9 2-2V5c0-1.1-.9-2-2-2zM9 17H7v-7h2v7zm4 0h-2V7h2v10zm4 0h-2v-4h2v4z\"/>\n",
              "    </g>\n",
              "</svg>\n",
              "  </button>\n",
              "\n",
              "<style>\n",
              "  .colab-df-quickchart {\n",
              "      --bg-color: #E8F0FE;\n",
              "      --fill-color: #1967D2;\n",
              "      --hover-bg-color: #E2EBFA;\n",
              "      --hover-fill-color: #174EA6;\n",
              "      --disabled-fill-color: #AAA;\n",
              "      --disabled-bg-color: #DDD;\n",
              "  }\n",
              "\n",
              "  [theme=dark] .colab-df-quickchart {\n",
              "      --bg-color: #3B4455;\n",
              "      --fill-color: #D2E3FC;\n",
              "      --hover-bg-color: #434B5C;\n",
              "      --hover-fill-color: #FFFFFF;\n",
              "      --disabled-bg-color: #3B4455;\n",
              "      --disabled-fill-color: #666;\n",
              "  }\n",
              "\n",
              "  .colab-df-quickchart {\n",
              "    background-color: var(--bg-color);\n",
              "    border: none;\n",
              "    border-radius: 50%;\n",
              "    cursor: pointer;\n",
              "    display: none;\n",
              "    fill: var(--fill-color);\n",
              "    height: 32px;\n",
              "    padding: 0;\n",
              "    width: 32px;\n",
              "  }\n",
              "\n",
              "  .colab-df-quickchart:hover {\n",
              "    background-color: var(--hover-bg-color);\n",
              "    box-shadow: 0 1px 2px rgba(60, 64, 67, 0.3), 0 1px 3px 1px rgba(60, 64, 67, 0.15);\n",
              "    fill: var(--button-hover-fill-color);\n",
              "  }\n",
              "\n",
              "  .colab-df-quickchart-complete:disabled,\n",
              "  .colab-df-quickchart-complete:disabled:hover {\n",
              "    background-color: var(--disabled-bg-color);\n",
              "    fill: var(--disabled-fill-color);\n",
              "    box-shadow: none;\n",
              "  }\n",
              "\n",
              "  .colab-df-spinner {\n",
              "    border: 2px solid var(--fill-color);\n",
              "    border-color: transparent;\n",
              "    border-bottom-color: var(--fill-color);\n",
              "    animation:\n",
              "      spin 1s steps(1) infinite;\n",
              "  }\n",
              "\n",
              "  @keyframes spin {\n",
              "    0% {\n",
              "      border-color: transparent;\n",
              "      border-bottom-color: var(--fill-color);\n",
              "      border-left-color: var(--fill-color);\n",
              "    }\n",
              "    20% {\n",
              "      border-color: transparent;\n",
              "      border-left-color: var(--fill-color);\n",
              "      border-top-color: var(--fill-color);\n",
              "    }\n",
              "    30% {\n",
              "      border-color: transparent;\n",
              "      border-left-color: var(--fill-color);\n",
              "      border-top-color: var(--fill-color);\n",
              "      border-right-color: var(--fill-color);\n",
              "    }\n",
              "    40% {\n",
              "      border-color: transparent;\n",
              "      border-right-color: var(--fill-color);\n",
              "      border-top-color: var(--fill-color);\n",
              "    }\n",
              "    60% {\n",
              "      border-color: transparent;\n",
              "      border-right-color: var(--fill-color);\n",
              "    }\n",
              "    80% {\n",
              "      border-color: transparent;\n",
              "      border-right-color: var(--fill-color);\n",
              "      border-bottom-color: var(--fill-color);\n",
              "    }\n",
              "    90% {\n",
              "      border-color: transparent;\n",
              "      border-bottom-color: var(--fill-color);\n",
              "    }\n",
              "  }\n",
              "</style>\n",
              "\n",
              "  <script>\n",
              "    async function quickchart(key) {\n",
              "      const quickchartButtonEl =\n",
              "        document.querySelector('#' + key + ' button');\n",
              "      quickchartButtonEl.disabled = true;  // To prevent multiple clicks.\n",
              "      quickchartButtonEl.classList.add('colab-df-spinner');\n",
              "      try {\n",
              "        const charts = await google.colab.kernel.invokeFunction(\n",
              "            'suggestCharts', [key], {});\n",
              "      } catch (error) {\n",
              "        console.error('Error during call to suggestCharts:', error);\n",
              "      }\n",
              "      quickchartButtonEl.classList.remove('colab-df-spinner');\n",
              "      quickchartButtonEl.classList.add('colab-df-quickchart-complete');\n",
              "    }\n",
              "    (() => {\n",
              "      let quickchartButtonEl =\n",
              "        document.querySelector('#df-b1de905a-9f6a-487d-8057-d2667789f087 button');\n",
              "      quickchartButtonEl.style.display =\n",
              "        google.colab.kernel.accessAllowed ? 'block' : 'none';\n",
              "    })();\n",
              "  </script>\n",
              "</div>\n",
              "    </div>\n",
              "  </div>\n"
            ]
          },
          "metadata": {},
          "execution_count": 138
        }
      ]
    },
    {
      "cell_type": "markdown",
      "source": [
        "* 4) Какой тип сделок (новая/текущая) был преобладающим в октябре 2021?"
      ],
      "metadata": {
        "id": "p7B_KaE_EJ95"
      }
    },
    {
      "cell_type": "code",
      "source": [
        "df['new/current'][(df['date'] == 'Октябрь 2021')].value_counts()"
      ],
      "metadata": {
        "colab": {
          "base_uri": "https://localhost:8080/"
        },
        "id": "3sKylwa3DkA8",
        "outputId": "47dd556f-e214-441e-967d-03584cb0b8fa"
      },
      "execution_count": 139,
      "outputs": [
        {
          "output_type": "execute_result",
          "data": {
            "text/plain": [
              "текущая    95\n",
              "новая      35\n",
              "Name: new/current, dtype: int64"
            ]
          },
          "metadata": {},
          "execution_count": 139
        }
      ]
    },
    {
      "cell_type": "markdown",
      "source": [
        "* 5) Сколько оригиналов договора по майским сделкам было получено в июне 2021?"
      ],
      "metadata": {
        "id": "3TR_NqQzDgRY"
      }
    },
    {
      "cell_type": "code",
      "source": [
        "len(df[(df['document'] == 'оригинал') &\n",
        "   (df['date'] == 'Май 2021') &\n",
        "   (pd.to_datetime(df['receiving_date']).dt.month ==6)])"
      ],
      "metadata": {
        "colab": {
          "base_uri": "https://localhost:8080/"
        },
        "id": "f0uv-dSMDK-2",
        "outputId": "711cca9d-3485-418c-bd54-5b9e66495b66"
      },
      "execution_count": 140,
      "outputs": [
        {
          "output_type": "execute_result",
          "data": {
            "text/plain": [
              "76"
            ]
          },
          "metadata": {},
          "execution_count": 140
        }
      ]
    },
    {
      "cell_type": "markdown",
      "source": [
        "Вычислите остаток каждого из менеджеров на 01.07.2021."
      ],
      "metadata": {
        "id": "VhO6yl2eW3st"
      }
    },
    {
      "cell_type": "code",
      "source": [
        "def first_condition(row) -> bool:\n",
        "    \"\"\"\n",
        "    За новые сделки менеджер получает 7 % от суммы, при условии, что статус\n",
        "    оплаты «ОПЛАЧЕНО», а также имеется оригинал подписанного договора с клиентом\n",
        "    (в рассматриваемом месяце).\n",
        "    \"\"\"\n",
        "    if (row['status'] == 'ОПЛАЧЕНО') & (row['document'] == 'оригинал') & (row['new/current'] == 'новая'):\n",
        "      return True\n",
        "    else:\n",
        "      return False\n",
        "\n",
        "def second_condition(row) -> bool:\n",
        "    \"\"\"\n",
        "    За текущие сделки менеджер получает 5 % от суммы, если она больше 10 тыс.,\n",
        "    и 3 % от суммы, если меньше. При этом статус оплаты может быть любым,\n",
        "    кроме «ПРОСРОЧЕНО»,а также необходимо наличие оригинала подписанного договора\n",
        "    с клиентом (в рассматриваемом месяце).\n",
        "    \"\"\"\n",
        "    if(row['new/current']\t == 'текущая') & (row['document'] == 'оригинал'):\n",
        "      return True\n",
        "    elif row['status'] == 'ПРОСРОЧЕНО':\n",
        "      return False\n",
        "    else:\n",
        "      return False"
      ],
      "metadata": {
        "id": "kuWcDFKm9eeW"
      },
      "execution_count": 141,
      "outputs": []
    },
    {
      "cell_type": "code",
      "source": [
        "from dataclasses import dataclass, field\n",
        "from typing import Dict\n",
        "\n",
        "\n",
        "@dataclass\n",
        "class Manager:\n",
        "  name: str\n",
        "  month: int\n",
        "  bonus_history: Dict[int, float] =field(default_factory= lambda: {})\n",
        "  bonus_current_month: float = 0\n",
        "\n",
        "  @property\n",
        "  def bonus_current(self)-> float:\n",
        "    return self.bonus_current_month\n",
        "  @bonus_current.setter\n",
        "  def bonus_current(self, value: float) -> None:\n",
        "    self.bonus_current_month += value\n",
        "\n"
      ],
      "metadata": {
        "id": "tEgGG_Jo8Aa-"
      },
      "execution_count": 142,
      "outputs": []
    },
    {
      "cell_type": "code",
      "source": [
        "dict_managers = dict()\n",
        "for index, row in df.iterrows():\n",
        "    value = 0\n",
        "    person = row['sale']\n",
        "\n",
        "    # current or next month\n",
        "    current_month = row['month_date']\n",
        "    receiv_month = pd.to_datetime(row['receiving_date']).month\n",
        "    # create person\n",
        "    if person not in dict_managers:\n",
        "      dict_managers[person] = Manager(name = row['sale'],\n",
        "                                      month = row['month_date'],\n",
        "                                      )\n",
        "    # selected manager\n",
        "    selected_manager = dict_managers.get(person)\n",
        "\n",
        "    # check first condition\n",
        "    if first_condition(row): # true or false\n",
        "      value = row['sum'] * 0.07\n",
        "\n",
        "    # check second condition\n",
        "    if second_condition(row): # true or false\n",
        "      if row['sum'] > 1e4:\n",
        "        value = row['sum'] * 0.05\n",
        "      elif row['sum'] < 1e4:\n",
        "        value = row['sum'] * 0.03\n",
        "\n",
        "\n",
        "    # check when manager get bonus\n",
        "    if current_month == selected_manager.month:\n",
        "      selected_manager.bonus_current = value\n",
        "\n",
        "    elif current_month != selected_manager.month:\n",
        "      # if not exist month, then create\n",
        "      if selected_manager.bonus_history.get(receiv_month) is None:\n",
        "        selected_manager.bonus_history[receiv_month] = 0\n",
        "      selected_manager.bonus_history[receiv_month] += value\n",
        "\n",
        "\n",
        "    # if time change on next month\n",
        "    if current_month != selected_manager.month:\n",
        "            # остаток на 01 июля\n",
        "      if (current_month == 7)& (selected_manager.month==6):\n",
        "        print(f'{selected_manager.name}, остаток на 01 июля = {selected_manager.bonus_history.get(7, 0)}')\n",
        "\n",
        "      selected_manager.bonus_history[selected_manager.month] = np.around(selected_manager.bonus_current_month, 2)\n",
        "      # get bonus from next month\n",
        "      selected_manager.bonus_current_month = selected_manager.bonus_history.get(current_month)\n",
        "      # if month not exist, then bonus 0\n",
        "      if selected_manager.bonus_current_month is None:\n",
        "         selected_manager.bonus_current_month = 0\n",
        "      # replace current month\n",
        "      selected_manager.month = current_month\n",
        "\n"
      ],
      "metadata": {
        "id": "lP-oDbpZ9ZEI",
        "colab": {
          "base_uri": "https://localhost:8080/"
        },
        "outputId": "e5c70e40-23c5-4b54-dea5-55254e9e98d8"
      },
      "execution_count": 143,
      "outputs": [
        {
          "output_type": "stream",
          "name": "stdout",
          "text": [
            "Иванов, остаток на 01 июля = 675.9350000000001\n",
            "Кузнецова, остаток на 01 июля = 0\n",
            "Андреев, остаток на 01 июля = 268.011\n",
            "Филимонова, остаток на 01 июля = 0\n",
            "Соколов, остаток на 01 июля = 0\n",
            "Смирнов, остаток на 01 июля = 83.961\n",
            "Петрова, остаток на 01 июля = 0\n",
            "Селиванов, остаток на 01 июля = 253.61100000000002\n",
            "Васильев, остаток на 01 июля = 0\n"
          ]
        }
      ]
    },
    {
      "cell_type": "code",
      "source": [],
      "metadata": {
        "id": "sBRJ7sBkhWUB"
      },
      "execution_count": null,
      "outputs": []
    }
  ]
}